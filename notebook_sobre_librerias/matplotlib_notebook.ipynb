{
 "cells": [
  {
   "cell_type": "markdown",
   "metadata": {},
   "source": [
    "<h2>¿Qué es Matplotlib?</h2>\n",
    "Matplotlib es una biblioteca de trazado de gráficos de bajo nivel en Python que sirve como utilidad de visualización.\n",
    "\n",
    "a continuacion vamos a instalar la libreria"
   ]
  },
  {
   "cell_type": "code",
   "execution_count": null,
   "metadata": {},
   "outputs": [],
   "source": [
    "!pip install matplotlib"
   ]
  },
  {
   "cell_type": "markdown",
   "metadata": {},
   "source": [
    "<h3>Trazado de datos</h3>\n",
    "La mayoría de las utilidades de Matplotlib se encuentran en el submódulo pyplot y, por lo general, se importan con el alias plt:"
   ]
  },
  {
   "cell_type": "code",
   "execution_count": null,
   "metadata": {},
   "outputs": [],
   "source": [
    "import matplotlib.pyplot as plt\n",
    "import numpy as np\n",
    "\n",
    "xpoints = np.array([0, 6])\n",
    "ypoints = np.array([0, 250])\n",
    "\n",
    "plt.plot(xpoints, ypoints)\n",
    "plt.show()"
   ]
  },
  {
   "cell_type": "markdown",
   "metadata": {},
   "source": [
    "<h3>Trazar sin línea</h3>\n",
    "Para trazar solo los marcadores, puede utilizar el parámetro de notación de cadena de método abreviado 'o', que significa 'anillos'."
   ]
  },
  {
   "cell_type": "code",
   "execution_count": null,
   "metadata": {},
   "outputs": [],
   "source": [
    "#Dibuja dos puntos en el diagrama, uno en la posición (1, 3) y otro en la posición (8, 10):\n",
    "xpoints = np.array([1, 8])\n",
    "ypoints = np.array([3, 10])\n",
    "\n",
    "plt.plot(xpoints, ypoints, 'o')\n",
    "plt.show()"
   ]
  },
  {
   "cell_type": "markdown",
   "metadata": {},
   "source": [
    "<h3>Múltiples puntos</h3>\n",
    "Puedes trazar tantos puntos como quieras, solo asegúrate de tener la misma cantidad de puntos en ambos ejes."
   ]
  },
  {
   "cell_type": "code",
   "execution_count": null,
   "metadata": {},
   "outputs": [],
   "source": [
    "#Dibuje una línea en un diagrama desde la posición (1, 3) a (2, 8), luego a (6, 1) y finalmente a la posición (8, 10):\n",
    "xpoints = np.array([1, 2, 6, 8])\n",
    "ypoints = np.array([3, 8, 1, 10])\n",
    "\n",
    "plt.plot(xpoints, ypoints)\n",
    "plt.show()"
   ]
  },
  {
   "cell_type": "markdown",
   "metadata": {},
   "source": [
    "<h3>Formatear cadenas fmt</h3>\n",
    "También puede utilizar el parámetro de notación de cadena de acceso directo para especificar el marcador.\n",
    "\n",
    "Este parámetro también se llama fmty se escribe con esta sintaxis:\n",
    "\n",
    "marker|line|color"
   ]
  },
  {
   "cell_type": "code",
   "execution_count": null,
   "metadata": {},
   "outputs": [],
   "source": [
    "ypoints = np.array([3, 8, 1, 10])\n",
    "\n",
    "plt.plot(ypoints, 'o:r')\n",
    "plt.show()"
   ]
  },
  {
   "cell_type": "markdown",
   "metadata": {},
   "source": [
    "El valor del marcador puede ser cualquier valor de la Referencia de marcador anterior.\n",
    "\n",
    "El valor de la línea puede ser uno de los siguientes:\n",
    "\n",
    "Referencia de línea\n",
    "<table>\n",
    "  <tr>\n",
    "    <th>Line Syntax</th>\n",
    "    <th>Descripcion</th>\n",
    "  </tr>\n",
    "  <tr>\n",
    "    <td>'-'</td>\n",
    "    <td>linea solida</td>\n",
    "  </tr>\n",
    "  <tr>\n",
    "    <td>':'</td>\n",
    "    <td>linea punteada</td>\n",
    "  </tr>\n",
    "  <tr>\n",
    "    <td>'--'</td>\n",
    "    <td>linea discontinua</td>\n",
    "  </tr>\n",
    "  <tr>\n",
    "    <td>'-.'</td>\n",
    "    <td>linea discontinua/punteada</td>\n",
    "  </tr>\n",
    "</table>\n",
    "\n",
    "Referencia de color\n",
    "<table>\n",
    "  <tr>\n",
    "    <th>Color Syntax</th>\n",
    "    <th>Descripcion</th>\n",
    "  </tr>\n",
    "  <tr>\n",
    "    <td>'r'</td>\n",
    "    <td>rojo</td>\n",
    "  </tr>\n",
    "  <tr>\n",
    "    <td>'g'</td>\n",
    "    <td>verde</td>\n",
    "  </tr>\n",
    "  <tr>\n",
    "    <td>'b'</td>\n",
    "    <td>azul</td>\n",
    "  </tr>\n",
    "  <tr>\n",
    "    <td>'c'</td>\n",
    "    <td>cyan</td>\n",
    "  </tr>\n",
    "  <tr>\n",
    "    <td>'m'</td>\n",
    "    <td>magenta</td>\n",
    "  </tr>\n",
    "  <tr>\n",
    "    <td>'y'</td>\n",
    "    <td>amarillo</td>\n",
    "  </tr>\n",
    "  <tr>\n",
    "    <td>'k'</td>\n",
    "    <td>negro</td>\n",
    "  </tr>\n",
    "  <tr>\n",
    "    <td>'w'</td>\n",
    "    <td>blanco</td>\n",
    "  </tr>\n",
    "</table>\n",
    "\n",
    "<h3>Tamaño del marcador</h3>\n",
    "Puede utilizar el argumento de palabra clave markersizeo la versión más corta mspara establecer el tamaño de los marcadores:"
   ]
  },
  {
   "cell_type": "code",
   "execution_count": null,
   "metadata": {},
   "outputs": [],
   "source": [
    "ypoints = np.array([3, 8, 1, 10])\n",
    "\n",
    "plt.plot(ypoints, marker = 'o', ms = 20)\n",
    "plt.show()"
   ]
  },
  {
   "cell_type": "markdown",
   "metadata": {},
   "source": [
    "<h3>Color del marcador</h3>\n",
    "Puedes usar el argumento de palabra clave markeredgecoloro el más corto mecpara establecer el color del borde de los marcadores:"
   ]
  },
  {
   "cell_type": "code",
   "execution_count": null,
   "metadata": {},
   "outputs": [],
   "source": [
    "plt.plot(ypoints, marker = 'o', ms = 20, mec = 'm')\n",
    "plt.show()"
   ]
  },
  {
   "cell_type": "code",
   "execution_count": null,
   "metadata": {},
   "outputs": [],
   "source": [
    "plt.plot(ypoints, marker = 'o', ms = 20, mec = 'hotpink', mfc = 'hotpink')\n",
    "plt.show()"
   ]
  },
  {
   "cell_type": "markdown",
   "metadata": {},
   "source": [
    "<h2>Etiquetas y título de Matplotlib</h2>\n",
    "\n",
    "<h3>Crear etiquetas para una trama</h3>\n",
    "Con Pyplot, puede usar las funciones xlabel()y ylabel()para establecer una etiqueta para los ejes x e y."
   ]
  },
  {
   "cell_type": "code",
   "execution_count": null,
   "metadata": {},
   "outputs": [],
   "source": [
    "x = np.array([80, 85, 90, 95, 100, 105, 110, 115, 120, 125])\n",
    "y = np.array([240, 250, 260, 270, 280, 290, 300, 310, 320, 330])\n",
    "\n",
    "plt.plot(x, y)\n",
    "\n",
    "plt.title(\"Sports Watch Data\")\n",
    "plt.xlabel(\"Average Pulse\")\n",
    "plt.ylabel(\"Calorie Burnage\")\n",
    "\n",
    "plt.show()"
   ]
  },
  {
   "cell_type": "markdown",
   "metadata": {},
   "source": [
    "<h3>Agregar líneas de cuadrícula a un gráfico</h3>\n",
    "Con Pyplot, puede usar la grid()función para agregar líneas de cuadrícula al gráfico."
   ]
  },
  {
   "cell_type": "code",
   "execution_count": null,
   "metadata": {},
   "outputs": [],
   "source": [
    "plt.plot(x, y)\n",
    "\n",
    "plt.grid()\n",
    "\n",
    "plt.show()"
   ]
  },
  {
   "cell_type": "markdown",
   "metadata": {},
   "source": [
    "<h3>Crear diagramas de dispersión</h3>\n",
    "Con Pyplot, puedes usar la scatter()función para dibujar un diagrama de dispersión.\n",
    "\n",
    "La scatter()función traza un punto para cada observación. Necesita dos matrices de la misma longitud, una para los valores del eje x y otra para los valores del eje y:"
   ]
  },
  {
   "cell_type": "code",
   "execution_count": null,
   "metadata": {},
   "outputs": [],
   "source": [
    "#day one, the age and speed of 13 cars:\n",
    "x = np.array([5,7,8,7,2,17,2,9,4,11,12,9,6])\n",
    "y = np.array([99,86,87,88,111,86,103,87,94,78,77,85,86])\n",
    "plt.scatter(x, y)\n",
    "\n",
    "#day two, the age and speed of 15 cars:\n",
    "x = np.array([2,2,8,1,15,8,12,9,7,3,11,4,7,14,12])\n",
    "y = np.array([100,105,84,105,90,99,90,95,94,100,79,112,91,80,85])\n",
    "plt.scatter(x, y)\n",
    "\n",
    "plt.show()"
   ]
  },
  {
   "cell_type": "markdown",
   "metadata": {},
   "source": [
    "<h3>Grafico de Barras</h3>\n",
    "Con Pyplot, puedes usar la bar()función para dibujar gráficos de barras:"
   ]
  },
  {
   "cell_type": "code",
   "execution_count": null,
   "metadata": {},
   "outputs": [],
   "source": [
    "x = np.array([\"A\", \"B\", \"C\", \"D\"])\n",
    "y = np.array([3, 8, 1, 10])\n",
    "\n",
    "plt.bar(x,y)\n",
    "plt.show()"
   ]
  },
  {
   "cell_type": "markdown",
   "metadata": {},
   "source": [
    "<h3>Color de la barra</h3>\n",
    "El bar()y barh()toma el argumento de palabra clave colorpara establecer el color de las barras:"
   ]
  },
  {
   "cell_type": "code",
   "execution_count": null,
   "metadata": {},
   "outputs": [],
   "source": [
    "plt.bar(x, y, color = \"red\")\n",
    "plt.show()"
   ]
  },
  {
   "cell_type": "markdown",
   "metadata": {},
   "source": [
    "<h3>Crear histograma</h3>\n",
    "En Matplotlib, usamos la hist()función para crear histogramas.\n",
    "\n",
    "La hist()función utilizará una matriz de números para crear un histograma, la matriz se envía a la función como argumento.\n",
    "\n",
    "Para simplificar, usamos NumPy para generar aleatoriamente una matriz con 250 valores, donde los valores se concentrarán alrededor de 170 y la desviación estándar es 10."
   ]
  },
  {
   "cell_type": "code",
   "execution_count": null,
   "metadata": {},
   "outputs": [],
   "source": [
    "import numpy as np\n",
    "\n",
    "x = np.random.normal(170, 10, 250)\n",
    "\n",
    "x"
   ]
  },
  {
   "cell_type": "code",
   "execution_count": null,
   "metadata": {},
   "outputs": [],
   "source": [
    "plt.hist(x)\n",
    "plt.show() "
   ]
  },
  {
   "cell_type": "markdown",
   "metadata": {},
   "source": [
    "<h3>Crear gráficos circulares</h3>\n",
    "Con Pyplot, puedes usar la pie()función para dibujar gráficos circulares:"
   ]
  },
  {
   "cell_type": "code",
   "execution_count": null,
   "metadata": {},
   "outputs": [],
   "source": [
    "y = np.array([35, 25, 25, 15])\n",
    "mylabels = [\"Apples\", \"Bananas\", \"Cherries\", \"Dates\"]\n",
    "\n",
    "plt.pie(y,labels=mylabels)\n",
    "plt.show() "
   ]
  },
  {
   "cell_type": "markdown",
   "metadata": {},
   "source": [
    "Puede encontrar mas informacion en la documentacion oficial : <a>https://matplotlib.org/</a>"
   ]
  }
 ],
 "metadata": {
  "kernelspec": {
   "display_name": "Python 3",
   "language": "python",
   "name": "python3"
  },
  "language_info": {
   "codemirror_mode": {
    "name": "ipython",
    "version": 3
   },
   "file_extension": ".py",
   "mimetype": "text/x-python",
   "name": "python",
   "nbconvert_exporter": "python",
   "pygments_lexer": "ipython3",
   "version": "3.10.2"
  }
 },
 "nbformat": 4,
 "nbformat_minor": 2
}
