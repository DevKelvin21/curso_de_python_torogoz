{
 "cells": [
  {
   "cell_type": "markdown",
   "metadata": {},
   "source": [
    "<h1>¿Qué es pandas?</h1>\n",
    "Pandas es una biblioteca de Python que se utiliza para trabajar con conjuntos de datos.\n",
    "\n",
    "Tiene funciones para analizar, limpiar, explorar y manipular datos.\n",
    "\n",
    "El nombre \"Pandas\" hace referencia tanto a \"Panel Data\" como a \"Python Data Analysis\" y fue creado por Wes McKinney en 2008.\n",
    "<h3>Instalación de pandas</h3>"
   ]
  },
  {
   "cell_type": "code",
   "execution_count": null,
   "metadata": {},
   "outputs": [],
   "source": [
    "!pip install pandas"
   ]
  },
  {
   "cell_type": "code",
   "execution_count": null,
   "metadata": {},
   "outputs": [],
   "source": [
    "#importando pandas con el alias pd\n",
    "#alias: en Python, los alias son un nombre alternativo para referirse a lo mismo.\n",
    "import pandas as pd\n",
    "\n",
    "mydataset = {\n",
    "  'cars': [\"BMW\", \"Volvo\", \"Ford\"],\n",
    "  'passings': [3, 7, 2]\n",
    "}\n",
    "\n",
    "#creando un dataFrame en pandas\n",
    "myvar = pd.DataFrame(mydataset)\n",
    "\n",
    "myvar"
   ]
  },
  {
   "cell_type": "markdown",
   "metadata": {},
   "source": [
    "<h3>¿Qué es una serie?</h3>\n",
    "Una serie Pandas es como una columna de una tabla.\n",
    "\n",
    "Es una matriz unidimensional que contiene datos de cualquier tipo."
   ]
  },
  {
   "cell_type": "code",
   "execution_count": null,
   "metadata": {},
   "outputs": [],
   "source": [
    "a = [1, 7, 2]\n",
    "\n",
    "my_serie = pd.Series(a)\n",
    "\n",
    "my_serie"
   ]
  },
  {
   "cell_type": "markdown",
   "metadata": {},
   "source": [
    "<h3>Crear etiquetas</h3>\n",
    "Con el argumento \"index\", puedes nombrar tus propias etiquetas."
   ]
  },
  {
   "cell_type": "code",
   "execution_count": null,
   "metadata": {},
   "outputs": [],
   "source": [
    "my_serie_index=pd.Series(a,index=[\"x\",\"y\",\"z\"])\n",
    "\n",
    "my_serie_index"
   ]
  },
  {
   "cell_type": "markdown",
   "metadata": {},
   "source": [
    "<h3>Objetos clave/valor como serie</h3>\n",
    "Tambien puede utilizar un objeto clave/valor como un diccionario, al crear una Serie."
   ]
  },
  {
   "cell_type": "code",
   "execution_count": null,
   "metadata": {},
   "outputs": [],
   "source": [
    "calories = {\"day1\": 420, \"day2\": 380, \"day3\": 390}\n",
    "\n",
    "calories_serie = pd.Series(calories)\n",
    "\n",
    "calories_serie"
   ]
  },
  {
   "cell_type": "markdown",
   "metadata": {},
   "source": [
    "<h3>DataFrame (Marcos de datos de Pandas)</h3>\n",
    "Los conjuntos de datos en Pandas suelen ser tablas multidimensionales, llamadas DataFrames.\n",
    "\n",
    "La serie es como una columna, un DataFrame es la tabla completa.\n",
    "\n",
    "Un Pandas DataFrame es una estructura de datos bidimensional, como una matriz bidimensional o una tabla con filas y columnas."
   ]
  },
  {
   "cell_type": "code",
   "execution_count": null,
   "metadata": {},
   "outputs": [],
   "source": [
    "data = {\n",
    "  \"calories\": [420, 380, 390],\n",
    "  \"duration\": [50, 40, 45]\n",
    "}\n",
    "\n",
    "calories_df = pd.DataFrame(data)\n",
    "\n",
    "calories_df\n"
   ]
  },
  {
   "cell_type": "markdown",
   "metadata": {},
   "source": [
    "<h3>Localizar fila</h3>\n",
    "Como puede ver en el resultado anterior, el DataFrame es como una tabla con filas y columnas.\n",
    "\n",
    "Pandas usa el \"loc\" atributo para devolver una o más filas especificadas"
   ]
  },
  {
   "cell_type": "code",
   "execution_count": null,
   "metadata": {},
   "outputs": [],
   "source": [
    "calories_df.loc[0]\n",
    "#observe que devuelve una Serie"
   ]
  },
  {
   "cell_type": "code",
   "execution_count": null,
   "metadata": {},
   "outputs": [],
   "source": [
    "calories_df.loc[[0,1]]\n",
    "#cuando usamos [], el resultado es un Pandas DataFrame"
   ]
  },
  {
   "cell_type": "markdown",
   "metadata": {},
   "source": [
    "<h3>Índices nombrados</h3>\n",
    "Con el argumento \"index\", puedes nombrar tus propios índices."
   ]
  },
  {
   "cell_type": "code",
   "execution_count": null,
   "metadata": {},
   "outputs": [],
   "source": [
    "df = pd.DataFrame(data, index = [\"day1\", \"day2\", \"day3\"])\n",
    "\n",
    "df"
   ]
  },
  {
   "cell_type": "markdown",
   "metadata": {},
   "source": [
    "<h3>Localizar índices con nombre</h3>\n",
    "Utilice el índice nombrado en el locatributo para devolver las filas especificadas."
   ]
  },
  {
   "cell_type": "code",
   "execution_count": null,
   "metadata": {},
   "outputs": [],
   "source": [
    "df.loc[\"day2\"]"
   ]
  },
  {
   "cell_type": "markdown",
   "metadata": {},
   "source": [
    "<h3>Cargar archivos en un DataFrame</h3>\n",
    "Si sus conjuntos de datos están almacenados en un archivo, Pandas puede cargarlos en un DataFrame."
   ]
  },
  {
   "cell_type": "code",
   "execution_count": null,
   "metadata": {},
   "outputs": [],
   "source": [
    "organization_df = pd.read_csv('Organization_v2.csv')\n",
    "\n",
    "organization_df"
   ]
  },
  {
   "cell_type": "markdown",
   "metadata": {},
   "source": [
    "<h3>Analisis de DataFrame</h3>\n",
    "\n",
    "<h3>Ver los datos</h3>\n",
    "Uno de los métodos más utilizados para obtener una descripción general rápida del DataFrame es el método head().\n",
    "\n",
    "El método head() devuelve los encabezados y un número específico de filas, comenzando desde arriba."
   ]
  },
  {
   "cell_type": "code",
   "execution_count": null,
   "metadata": {},
   "outputs": [],
   "source": [
    "organization_df = pd.read_csv('Organization_v2.csv')\n",
    "\n",
    "organization_df.head()\n",
    "#devuelve las primeras 5 filas del DataFrame"
   ]
  },
  {
   "cell_type": "code",
   "execution_count": null,
   "metadata": {},
   "outputs": [],
   "source": [
    "organization_df.head(10)\n",
    "#devuelve las primeras 10 filas del DataFrame"
   ]
  },
  {
   "cell_type": "markdown",
   "metadata": {},
   "source": [
    "También existe un tail()método para ver las últimas filas del DataFrame.\n",
    "\n",
    "El tail()método devuelve los encabezados y un número específico de filas, comenzando desde abajo."
   ]
  },
  {
   "cell_type": "code",
   "execution_count": null,
   "metadata": {},
   "outputs": [],
   "source": [
    "organization_df.tail()"
   ]
  },
  {
   "cell_type": "code",
   "execution_count": null,
   "metadata": {},
   "outputs": [],
   "source": [
    "organization_df.tail(10)"
   ]
  },
  {
   "cell_type": "markdown",
   "metadata": {},
   "source": [
    "<h3>Información sobre los datos</h3>\n",
    "El objeto DataFrames tiene un método llamado info()que le brinda más información sobre el conjunto de datos."
   ]
  },
  {
   "cell_type": "code",
   "execution_count": null,
   "metadata": {},
   "outputs": [],
   "source": [
    "organization_df.info()"
   ]
  },
  {
   "cell_type": "markdown",
   "metadata": {},
   "source": [
    "Puede encontar mas informacion en la documentacion oficial: <a>https://pandas.pydata.org/docs/</a>"
   ]
  }
 ],
 "metadata": {
  "kernelspec": {
   "display_name": "Python 3",
   "language": "python",
   "name": "python3"
  },
  "language_info": {
   "codemirror_mode": {
    "name": "ipython",
    "version": 3
   },
   "file_extension": ".py",
   "mimetype": "text/x-python",
   "name": "python",
   "nbconvert_exporter": "python",
   "pygments_lexer": "ipython3",
   "version": "3.10.2"
  }
 },
 "nbformat": 4,
 "nbformat_minor": 2
}
